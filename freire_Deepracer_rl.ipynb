{
 "cells": [
  {
   "cell_type": "markdown",
   "id": "former-tourism",
   "metadata": {},
   "source": [
    "# Imports"
   ]
  },
  {
   "cell_type": "code",
   "execution_count": 38,
   "id": "aware-satin",
   "metadata": {},
   "outputs": [],
   "source": [
    "import boto3\n",
    "import sagemaker\n",
    "import sys\n",
    "import os\n",
    "import re\n",
    "import numpy as np\n",
    "import subprocess\n",
    "import yaml\n",
    "sys.path.append(\"common\")\n",
    "sys.path.append(\"./src\")\n",
    "from misc import get_execution_role, wait_for_s3_object\n",
    "from docker_utils import build_and_push_docker_image\n",
    "from sagemaker.rl import RLEstimator, RLToolkit, RLFramework\n",
    "from time import gmtime, strftime\n",
    "import time\n",
    "from IPython.display import Markdown\n",
    "from markdown_helper import *"
   ]
  },
  {
   "cell_type": "markdown",
   "id": "joint-adventure",
   "metadata": {},
   "source": [
    "# Some Initialization Parameters for AWS"
   ]
  },
  {
   "cell_type": "code",
   "execution_count": 39,
   "id": "valid-bryan",
   "metadata": {},
   "outputs": [],
   "source": [
    "# code to create a new bucket or use an existing bucket with allowed permissions\n",
    "useExistingBucket = True\n",
    "#if true , use exiting models else create a new model, make sure name is unique and add it to our \n",
    "#existing bucket only create a new folder\n",
    "FreireBucket = \"freirebros-deepracer\" #bucketname , this is global bucket (S3 Bucket)\n",
    "\n",
    "#the pretrained folder is incase yo have an old model already trained\n",
    "#if you have non then just call it \"\"\n",
    "#DO NOT PUT A  SLASH AT THE END IT MESSES EVERYTHING UP\n",
    "pretrainedModelPrefix = \"AndreiModels/Model-Andrei-Trial-3-SM\" #this is the prefix name (a folder within sagemaker S3)\n",
    "#new model directory\n",
    "NewModelPrefix = \"AndreiModels/Model-Andrei-Trial-4-usingT3-SM\"\n",
    "\n",
    "# Select the instance type\n",
    "instance_type = \"ml.c4.2xlarge\"\n",
    "#instance_type = \"ml.p2.xlarge\"\n",
    "#instance_type = \"ml.c5.4xlarge\"\n",
    "\n",
    "\n",
    "if not FreireBucket: \n",
    "    raise SystemExit(\"Please Enter a Bucket Name\")\n",
    "\n",
    "# Starting SageMaker session\n",
    "sage_session = sagemaker.session.Session(default_bucket = FreireBucket)\n",
    "\n",
    "# Create unique job name.\n",
    "job_name_prefix = 'deepracer-notebook'\n",
    "\n",
    "# Duration of job in seconds (1 hours)\n",
    "job_duration_in_seconds = 3600\n",
    "\n",
    "# AWS Region\n",
    "aws_region = sage_session.boto_region_name\n",
    "if aws_region not in [\"us-west-2\", \"us-east-1\", \"eu-west-1\"]:\n",
    "    raise Exception(\"This notebook uses RoboMaker which is available only in US East (N. Virginia),\"\n",
    "                    \"US West (Oregon) and EU (Ireland). Please switch to one of these regions.\")"
   ]
  },
  {
   "cell_type": "markdown",
   "id": "excessive-graphic",
   "metadata": {},
   "source": [
    "# AWS Resources setup \n",
    "## taken from AWS examples - DO NOT CHANGE"
   ]
  },
  {
   "cell_type": "code",
   "execution_count": 40,
   "id": "altered-shirt",
   "metadata": {},
   "outputs": [
    {
     "name": "stdout",
     "output_type": "stream",
     "text": [
      "Using s3 bucket freirebros-deepracer\n",
      "Model checkpoints and other metadata will be stored at: \n",
      "s3://freirebros-deepracer/AndreiModels/Model-Andrei-Trial-4-usingT3-SM\n",
      "Using Sagemaker IAM role arn: \n",
      "arn:aws:iam::204747776045:role/service-role/AmazonSageMaker-ExecutionRole-20210210T204480\n"
     ]
    },
    {
     "data": {
      "text/markdown": [
       "1. Go to IAM console to edit current SageMaker role: [AmazonSageMaker-ExecutionRole-20210210T204480](https://console.aws.amazon.com/iam/home#/roles/AmazonSageMaker-ExecutionRole-20210210T204480).\n",
       "2. Next, go to the `Trust relationships tab` and click on `Edit Trust Relationship.` \n",
       "3. Replace the JSON blob with the following:\n",
       "```json\n",
       "            {\n",
       "              \"Version\": \"2012-10-17\",\n",
       "              \"Statement\": [\n",
       "                {\n",
       "                  \"Effect\": \"Allow\",\n",
       "                  \"Principal\": {\n",
       "                    \"Service\": [\n",
       "                      \"sagemaker.amazonaws.com\",\n",
       "                      \"robomaker.amazonaws.com\"\n",
       "                    ]\n",
       "                  },\n",
       "                  \"Action\": \"sts:AssumeRole\"\n",
       "                }\n",
       "              ]\n",
       "            }```\n",
       "4. Once this is complete, click on Update Trust Policy and you are done."
      ],
      "text/plain": [
       "<IPython.core.display.Markdown object>"
      ]
     },
     "metadata": {},
     "output_type": "display_data"
    },
    {
     "data": {
      "text/markdown": [
       "1. Go to IAM console to edit current SageMaker role: [AmazonSageMaker-ExecutionRole-20210210T204480](https://console.aws.amazon.com/iam/home#/roles/AmazonSageMaker-ExecutionRole-20210210T204480).\n",
       "2. Next, go to the `Permissions tab` and click on `Attach Policy.` \n",
       "3. Search and select `AmazonKinesisVideoStreamsFullAccess` policy\n"
      ],
      "text/plain": [
       "<IPython.core.display.Markdown object>"
      ]
     },
     "metadata": {},
     "output_type": "display_data"
    },
    {
     "data": {
      "text/markdown": [
       "1. Go to IAM console to edit current SageMaker role: [AmazonSageMaker-ExecutionRole-20210210T204480](https://console.aws.amazon.com/iam/home#/roles/AmazonSageMaker-ExecutionRole-20210210T204480).\n",
       "2. Next, go to the `Permissions tab` and click on `Attach Policy.` \n",
       "3. Search and select `AmazonS3FullAccess` policy\n"
      ],
      "text/plain": [
       "<IPython.core.display.Markdown object>"
      ]
     },
     "metadata": {},
     "output_type": "display_data"
    },
    {
     "name": "stdout",
     "output_type": "stream",
     "text": [
      "CPU times: user 4 µs, sys: 0 ns, total: 4 µs\n",
      "Wall time: 7.87 µs\n",
      "Copying files from your notebook to existing sagemaker container\n",
      "docker images sagemaker-docker-cpu | sed -n 2,2p\n",
      "Sagemaker docker id : 5905673d9489\n",
      "docker run -d -t 5905673d9489\n",
      "docker exec -d 956f4a948be533bfe4a0b8679fec3bfab8d4218196863ea9e3f4c44f93f9fb40 rm -rf /opt/amazon/markov\n",
      "docker cp ./src/markov 956f4a948be533bfe4a0b8679fec3bfab8d4218196863ea9e3f4c44f93f9fb40:/opt/amazon/markov\n",
      "============ Copied Markov scripts to sagemaker docker ============ \n",
      " \n",
      "docker ps -l|sed -n 2,2p\n",
      "docker commit 956f4a948be5 sagemaker-docker-cpu\n",
      "============ Commited all the changes to docker ============ \n",
      " \n",
      "Using the default VPC stacks\n",
      "Using VPC: vpc-6cebf416\n",
      "Using security group: ['sg-26446204']\n",
      "Using subnets: ['subnet-f638fb90', 'subnet-00ef2621', 'subnet-57bb7408', 'subnet-62283e5c', 'subnet-2293016f', 'subnet-f4d551fa']\n",
      "Creating \n",
      "Trying to attach S3 endpoints to the following route tables: ['rtb-d36ff5ad']\n",
      "S3 endpoint already exists.\n"
     ]
    }
   ],
   "source": [
    "#Fetch S3 Bucket Resource\n",
    "if not NewModelPrefix:\n",
    "    raise systemExit(\"pleaser Enter a Prefix Name (Folder where the model is stored)\")\n",
    "# S3 bucket\n",
    "if not useExistingBucket:\n",
    "    s3_bucket = sage_session.default_bucket()\n",
    "else:\n",
    "    s3_bucket = FreireBucket\n",
    "# SDK appends the job name and output folder\n",
    "s3_output_path = 's3://{}/'.format(s3_bucket)\n",
    "\n",
    "#Ensure that the S3 prefix contains the keyword 'sagemaker'\n",
    "s3_prefix = NewModelPrefix\n",
    "\n",
    "# Get the AWS account id of this account\n",
    "sts = boto3.client(\"sts\")\n",
    "account_id = sts.get_caller_identity()['Account']\n",
    "\n",
    "print(\"Using s3 bucket {}\".format(s3_bucket))\n",
    "print(\"Model checkpoints and other metadata will be stored at: \\ns3://{}/{}\".format(s3_bucket, s3_prefix))\n",
    "\n",
    "#set permisions Resource\n",
    "try:\n",
    "    sagemaker_role = sagemaker.get_execution_role()\n",
    "except:\n",
    "    sagemaker_role = get_execution_role('sagemaker')\n",
    "\n",
    "print(\"Using Sagemaker IAM role arn: \\n{}\".format(sagemaker_role))\n",
    "\n",
    "#In case reader want to implement themselves\n",
    "display(Markdown(generate_help_for_robomaker_trust_relationship(sagemaker_role)))\n",
    "display(Markdown(generate_s3_write_permission_for_sagemaker_role(sagemaker_role)))\n",
    "display(Markdown(generate_kinesis_create_permission_for_sagemaker_role(sagemaker_role)))\n",
    "\n",
    "#build AWS Docker Resource\n",
    "\n",
    "%time\n",
    "from copy_to_sagemaker_container import get_sagemaker_docker, copy_to_sagemaker_container, get_custom_image_name\n",
    "cpu_or_gpu = 'gpu' if instance_type.startswith('ml.p') else 'cpu'\n",
    "repository_short_name = \"sagemaker-docker-%s\" % cpu_or_gpu\n",
    "custom_image_name = get_custom_image_name(repository_short_name)\n",
    "try:\n",
    "    print(\"Copying files from your notebook to existing sagemaker container\")\n",
    "    sagemaker_docker_id = get_sagemaker_docker(repository_short_name)\n",
    "    copy_to_sagemaker_container(sagemaker_docker_id, repository_short_name)\n",
    "except Exception as e:\n",
    "    print(\"Creating sagemaker container\")\n",
    "    docker_build_args = {\n",
    "        'CPU_OR_GPU': cpu_or_gpu, \n",
    "        'AWS_REGION': boto3.Session().region_name,\n",
    "    }\n",
    "    custom_image_name = build_and_push_docker_image(repository_short_name, build_args=docker_build_args)\n",
    "    print(\"Using ECR image %s\" % custom_image_name)\n",
    "    \n",
    "    \n",
    "\n",
    "#configure VPC Resource\n",
    "ec2 = boto3.client('ec2')\n",
    "\n",
    "#\n",
    "# Check if the user has Deepracer-VPC and use that if its present. This will have all permission.\n",
    "# This VPC will be created when you have used the Deepracer console and created one model atleast\n",
    "# If this is not present. Use the default VPC connnection\n",
    "#\n",
    "deepracer_security_groups = [group[\"GroupId\"] for group in ec2.describe_security_groups()['SecurityGroups']\\\n",
    "                             if group['GroupName'].startswith(\"aws-deepracer-\")]\n",
    "\n",
    "# deepracer_security_groups = False\n",
    "if(deepracer_security_groups):\n",
    "    print(\"Using the DeepRacer VPC stacks. This will be created if you run one training job from console.\")\n",
    "    deepracer_vpc = [vpc['VpcId'] for vpc in ec2.describe_vpcs()['Vpcs'] \\\n",
    "                     if \"Tags\" in vpc for val in vpc['Tags'] \\\n",
    "                     if val['Value'] == 'deepracer-vpc'][0]\n",
    "    deepracer_subnets = [subnet[\"SubnetId\"] for subnet in ec2.describe_subnets()[\"Subnets\"] \\\n",
    "                         if subnet[\"VpcId\"] == deepracer_vpc]\n",
    "else:\n",
    "    print(\"Using the default VPC stacks\")\n",
    "    deepracer_vpc = [vpc['VpcId'] for vpc in ec2.describe_vpcs()['Vpcs'] if vpc[\"IsDefault\"] == True][0]\n",
    "\n",
    "    deepracer_security_groups = [group[\"GroupId\"] for group in ec2.describe_security_groups()['SecurityGroups'] \\\n",
    "                                 if 'VpcId' in group and group[\"GroupName\"] == \"default\" and group[\"VpcId\"] == deepracer_vpc]\n",
    "\n",
    "    deepracer_subnets = [subnet[\"SubnetId\"] for subnet in ec2.describe_subnets()[\"Subnets\"] \\\n",
    "                         if subnet[\"VpcId\"] == deepracer_vpc and subnet['DefaultForAz']==True]\n",
    "\n",
    "print(\"Using VPC:\", deepracer_vpc)\n",
    "print(\"Using security group:\", deepracer_security_groups)\n",
    "print(\"Using subnets:\", deepracer_subnets)\n",
    "\n",
    "#create Route Table resourses\n",
    "#TODO: Explain to customer what CREATE_ROUTE_TABLE is doing\n",
    "CREATE_ROUTE_TABLE = True\n",
    "\n",
    "def create_vpc_endpoint_table():\n",
    "    print(\"Creating \")\n",
    "    try:\n",
    "        route_tables = [route_table[\"RouteTableId\"] for route_table in ec2.describe_route_tables()['RouteTables']\\\n",
    "                        if route_table['VpcId'] == deepracer_vpc]\n",
    "    except Exception as e:\n",
    "        if \"UnauthorizedOperation\" in str(e):\n",
    "            display(Markdown(generate_help_for_s3_endpoint_permissions(sagemaker_role)))\n",
    "        else:\n",
    "            display(Markdown(create_s3_endpoint_manually(aws_region, deepracer_vpc)))\n",
    "        raise e\n",
    "\n",
    "    print(\"Trying to attach S3 endpoints to the following route tables:\", route_tables)\n",
    "    \n",
    "    if not route_tables:\n",
    "        raise Exception((\"No route tables were found. Please follow the VPC S3 endpoint creation \"\n",
    "                         \"guide by clicking the above link.\"))\n",
    "    try:\n",
    "        ec2.create_vpc_endpoint(DryRun=False,\n",
    "                                VpcEndpointType=\"Gateway\",\n",
    "                                VpcId=deepracer_vpc,\n",
    "                                ServiceName=\"com.amazonaws.{}.s3\".format(aws_region),\n",
    "                                RouteTableIds=route_tables)\n",
    "        print(\"S3 endpoint created successfully!\")\n",
    "    except Exception as e:\n",
    "        if \"RouteAlreadyExists\" in str(e):\n",
    "            print(\"S3 endpoint already exists.\")\n",
    "        elif \"UnauthorizedOperation\" in str(e):\n",
    "            display(Markdown(generate_help_for_s3_endpoint_permissions(role)))\n",
    "            raise e\n",
    "        else:\n",
    "            display(Markdown(create_s3_endpoint_manually(aws_region, deepracer_vpc)))\n",
    "            raise e\n",
    "\n",
    "if CREATE_ROUTE_TABLE:\n",
    "    create_vpc_endpoint_table()\n",
    "    \n",
    "\n"
   ]
  },
  {
   "cell_type": "markdown",
   "id": "constant-cancer",
   "metadata": {},
   "source": [
    "# Set Up Training Environment\n"
   ]
  },
  {
   "cell_type": "code",
   "execution_count": 41,
   "id": "continuing-fundamental",
   "metadata": {},
   "outputs": [
    {
     "name": "stdout",
     "output_type": "stream",
     "text": [
      "s3://freirebros-deepracer/AndreiModels/Model-Andrei-Trial-4-usingT3-SM\n",
      "upload: src/artifacts/rewards/andrei_reward_optimized_turns.py to s3://freirebros-deepracer/AndreiModels/Model-Andrei-Trial-4-usingT3-SM/customer_reward_function.py\n",
      "upload: src/artifacts/actions/front_deep_two_speed_5steering.json to s3://freirebros-deepracer/AndreiModels/Model-Andrei-Trial-4-usingT3-SM/model/model_metadata.json\n"
     ]
    }
   ],
   "source": [
    "#copy any custom files such as \n",
    "#custom reward function\n",
    "#meta_data\n",
    "#presets -> action space\n",
    "#attention layer\n",
    "\n",
    "s3_location = \"s3://%s/%s\" % (s3_bucket, s3_prefix)\n",
    "print(s3_location)\n",
    "\n",
    "# Clean up the previously uploaded files\n",
    "!aws s3 rm --recursive {s3_location}\n",
    "\n",
    "!aws s3 cp ./src/artifacts/rewards/andrei_reward_optimized_turns.py {s3_location}/customer_reward_function.py\n",
    "\n",
    "!aws s3 cp ./src/artifacts/actions/front_deep_two_speed_5steering.json {s3_location}/model/model_metadata.json\n",
    "\n",
    "#!aws s3 cp src/markov/presets/default.py {s3_location}/presets/preset.py\n",
    "#!aws s3 cp src/markov/presets/preset_attention_layer.py {s3_location}/presets/preset.py\n",
    "\n"
   ]
  },
  {
   "cell_type": "code",
   "execution_count": 42,
   "id": "breathing-column",
   "metadata": {},
   "outputs": [],
   "source": [
    "#set Metric we want to collect\n",
    "metric_definitions = [\n",
    "    # Training> Name=main_level/agent, Worker=0, Episode=19, Total reward=-102.88, Steps=19019, Training iteration=1\n",
    "    {'Name': 'reward-training',\n",
    "     'Regex': '^Training>.*Total reward=(.*?),'},\n",
    "    \n",
    "    # Policy training> Surrogate loss=-0.32664725184440613, KL divergence=7.255815035023261e-06, Entropy=2.83156156539917, training epoch=0, learning_rate=0.00025\n",
    "    {'Name': 'ppo-surrogate-loss',\n",
    "     'Regex': '^Policy training>.*Surrogate loss=(.*?),'},\n",
    "     {'Name': 'ppo-entropy',\n",
    "     'Regex': '^Policy training>.*Entropy=(.*?),'},\n",
    "   \n",
    "    # Testing> Name=main_level/agent, Worker=0, Episode=19, Total reward=1359.12, Steps=20015, Training iteration=2\n",
    "    {'Name': 'reward-testing',\n",
    "     'Regex': '^Testing>.*Total reward=(.*?),'},\n",
    "]"
   ]
  },
  {
   "cell_type": "markdown",
   "id": "distinct-junction",
   "metadata": {},
   "source": [
    "# TRAIN\n",
    "Configure hyper parameters\n",
    "exploration type che k : https://intellabs.github.io/coach/components/exploration_policies/index.html\n",
    "Categorical\n",
    "i will choose EGreedy"
   ]
  },
  {
   "cell_type": "code",
   "execution_count": 43,
   "id": "cognitive-pension",
   "metadata": {},
   "outputs": [
    {
     "name": "stdout",
     "output_type": "stream",
     "text": [
      "Training job: deepracer-notebook-2021-03-28-02-06-12-181\n"
     ]
    }
   ],
   "source": [
    "estimator = RLEstimator(entry_point=\"training_worker.py\",\n",
    "                        source_dir='src',\n",
    "                        image_uri=custom_image_name,\n",
    "                        dependencies=[\"common/\"],\n",
    "                        role=sagemaker_role,\n",
    "                        instance_type=instance_type,\n",
    "                        instance_count=1,\n",
    "                        output_path=s3_output_path,\n",
    "                        base_job_name=job_name_prefix,\n",
    "                        metric_definitions=metric_definitions,\n",
    "                        max_run=job_duration_in_seconds,\n",
    "                        hyperparameters={\n",
    "                            \"s3_bucket\": s3_bucket,\n",
    "                            \"s3_prefix\": s3_prefix,\n",
    "                            \"aws_region\": aws_region,\n",
    "                            \"model_metadata_s3_key\": \"%s/model/model_metadata.json\" % s3_prefix,\n",
    "                            \"reward_function_s3_source\": \"%s/customer_reward_function.py\" % s3_prefix,\n",
    "                            \"batch_size\": \"64\",\n",
    "                            \"num_epochs\": \"10\",\n",
    "                            \"stack_size\": \"1\",\n",
    "                            \"lr\": \"0.0003\",\n",
    "                            \"exploration_type\": \"Categorical\",\n",
    "                            \"e_greedy_value\": \"1\",\n",
    "                            \"epsilon_steps\": \"10000\",\n",
    "                            \"beta_entropy\": \"0.01\",\n",
    "                            \"discount_factor\": \"0.95\",\n",
    "                            \"loss_type\": \"Huber\",\n",
    "                            \"num_episodes_between_training\": \"20\",\n",
    "                            \"max_sample_count\": \"0\",\n",
    "                            \"sampling_frequency\": \"1\"\n",
    "                            ,\"pretrained_s3_bucket\": FreireBucket\n",
    "                            ,\"pretrained_s3_prefix\": pretrainedModelPrefix\n",
    "                        },\n",
    "                        subnets=deepracer_subnets,\n",
    "                        security_group_ids=deepracer_security_groups,\n",
    "                    )\n",
    "\n",
    "estimator.fit(wait=False)\n",
    "job_name = estimator.latest_training_job.job_name\n",
    "print(\"Training job: %s\" % job_name)"
   ]
  },
  {
   "cell_type": "code",
   "execution_count": 44,
   "id": "moved-gateway",
   "metadata": {},
   "outputs": [],
   "source": [
    "#Get Info\n",
    "training_job_arn = estimator.latest_training_job.describe()['TrainingJobArn']"
   ]
  },
  {
   "cell_type": "markdown",
   "id": "square-titanium",
   "metadata": {},
   "source": [
    "# AWS Simulation and Robot Resources \n",
    "##  taken from AWS examples - DO NOT CHANGE"
   ]
  },
  {
   "cell_type": "code",
   "execution_count": 45,
   "id": "helpful-cameroon",
   "metadata": {},
   "outputs": [
    {
     "name": "stdout",
     "output_type": "stream",
     "text": [
      "JOB_TYPE                                : TRAINING\n",
      "WORLD_NAME                              : reInvent2019_track\n",
      "SAGEMAKER_SHARED_S3_BUCKET              : freirebros-deepracer\n",
      "SAGEMAKER_SHARED_S3_PREFIX              : AndreiModels/Model-Andrei-Trial-4-usingT3-SM\n",
      "TRAINING_JOB_ARN                        : arn:aws:sagemaker:us-east-1:204747776045:training-job/deepracer-notebook-2021-03-28-02-06-12-181\n",
      "METRICS_S3_BUCKET                       : freirebros-deepracer\n",
      "METRICS_S3_OBJECT_KEY                   : AndreiModels/Model-Andrei-Trial-4-usingT3-SM/training_metrics.json\n",
      "SIMTRACE_S3_BUCKET                      : freirebros-deepracer\n",
      "SIMTRACE_S3_PREFIX                      : AndreiModels/Model-Andrei-Trial-4-usingT3-SM/iteration-data/training\n",
      "AWS_REGION                              : us-east-1\n",
      "TARGET_REWARD_SCORE                     : None\n",
      "NUMBER_OF_EPISODES                      : 0\n",
      "ROBOMAKER_SIMULATION_JOB_ACCOUNT_ID     : 204747776045\n",
      "CHANGE_START_POSITION                   : true\n",
      "ALTERNATE_DRIVING_DIRECTION             : false\n",
      "REVERSE_DIR                             : false\n",
      "KINESIS_VIDEO_STREAM_NAME               : dr-kvs-deepracer-notebook-2021-03-27-23-35-42-698\n",
      "REWARD_FILE_S3_KEY                      : AndreiModels/Model-Andrei-Trial-4-usingT3-SM/customer_reward_function.py\n",
      "MODEL_METADATA_FILE_S3_KEY              : AndreiModels/Model-Andrei-Trial-4-usingT3-SM/model/model_metadata.json\n",
      "NUMBER_OF_RESETS                        : 0\n",
      "CAR_COLOR                               : Blue\n",
      "ENABLE_DOMAIN_RANDOMIZATION             : false\n",
      "NUM_WORKERS                             : 1\n",
      "NUMBER_OF_OBSTACLES                     : 0\n",
      "MIN_DISTANCE_BETWEEN_OBSTACLES          : 2.0\n",
      "RANDOMIZE_OBSTACLE_LOCATIONS            : false\n",
      "IS_OBSTACLE_BOT_CAR                     : false\n",
      "NUMBER_OF_BOT_CARS                      : 0\n",
      "IS_LANE_CHANGE                          : false\n",
      "LOWER_LANE_CHANGE_TIME                  : 3.0\n",
      "UPPER_LANE_CHANGE_TIME                  : 5.0\n",
      "LANE_CHANGE_DISTANCE                    : 1.0\n",
      "MIN_DISTANCE_BETWEEN_BOT_CARS           : 2.0\n",
      "RANDOMIZE_BOT_CAR_LOCATIONS             : true\n",
      "BOT_CAR_SPEED                           : 0.2\n",
      "MP4_S3_BUCKET                           : freirebros-deepracer\n",
      "MP4_S3_OBJECT_PREFIX                    : AndreiModels/Model-Andrei-Trial-4-usingT3-SM/iteration-data/training\n",
      "RACE_TYPE                               : TIME_TRIAL\n",
      "VIDEO_JOB_TYPE                          : RACING\n",
      "DISPLAY_NAME                            : LongLongRacerNameBlaBlaBla\n",
      "RACER_NAME                              : racer-alias\n",
      "MODEL_NAME                              : bla-bla-model-user-created-in-customer\n",
      "LEADERBOARD_TYPE                        : LEAGUE\n",
      "LEADERBOARD_NAME                        : 2020 MARCH QUALIFIER\n"
     ]
    },
    {
     "name": "stderr",
     "output_type": "stream",
     "text": [
      "/home/ec2-user/anaconda3/envs/amazonei_tensorflow_p36/lib/python3.6/site-packages/ipykernel/__main__.py:7: YAMLLoadWarning: calling yaml.load() without Loader=... is deprecated, as the default Loader is unsafe. Please read https://msg.pyyaml.org/load for full details.\n"
     ]
    },
    {
     "name": "stdout",
     "output_type": "stream",
     "text": [
      "Completed 1.8 KiB/1.8 KiB (17.5 KiB/s) with 1 file(s) remaining\r",
      "upload: ./training_params.yaml to s3://freirebros-deepracer/AndreiModels/Model-Andrei-Trial-4-usingT3-SM/training_params.yaml\r\n"
     ]
    }
   ],
   "source": [
    "    \n",
    "s3_yaml_name=\"training_params.yaml\"\n",
    "world_name = \"reInvent2019_track\"\n",
    "# Change this for multiple rollouts. This will invoke the specified number of robomaker jobs to collect experience\n",
    "num_simulation_workers = 1\n",
    "\n",
    "with open(\"./src/artifacts/yaml/training_yaml_template.yaml\", \"r\") as filepointer:\n",
    "    yaml_config = yaml.load(filepointer)\n",
    "\n",
    "yaml_config['WORLD_NAME']                  = world_name\n",
    "yaml_config['SAGEMAKER_SHARED_S3_BUCKET']  = s3_bucket\n",
    "yaml_config['SAGEMAKER_SHARED_S3_PREFIX']  = s3_prefix\n",
    "yaml_config['TRAINING_JOB_ARN']            = training_job_arn\n",
    "yaml_config['METRICS_S3_BUCKET']           = s3_bucket\n",
    "yaml_config['METRICS_S3_OBJECT_KEY']       = \"{}/training_metrics.json\".format(s3_prefix)\n",
    "yaml_config['SIMTRACE_S3_BUCKET']          = s3_bucket\n",
    "yaml_config['SIMTRACE_S3_PREFIX']          = \"{}/iteration-data/training\".format(s3_prefix)\n",
    "yaml_config['AWS_REGION']                  = aws_region\n",
    "yaml_config['ROBOMAKER_SIMULATION_JOB_ACCOUNT_ID'] = account_id\n",
    "yaml_config['KINESIS_VIDEO_STREAM_NAME']   = kvs_stream_name\n",
    "yaml_config['REWARD_FILE_S3_KEY']          = \"{}/customer_reward_function.py\".format(s3_prefix)\n",
    "yaml_config['MODEL_METADATA_FILE_S3_KEY']  = \"{}/model/model_metadata.json\".format(s3_prefix)\n",
    "yaml_config['NUM_WORKERS']                 = num_simulation_workers\n",
    "yaml_config['MP4_S3_BUCKET']               = s3_bucket\n",
    "yaml_config['MP4_S3_OBJECT_PREFIX']        = \"{}/iteration-data/training\".format(s3_prefix)\n",
    "\n",
    "# Race-type supported for training are TIME_TRIAL, OBJECT_AVOIDANCE, HEAD_TO_BOT\n",
    "# If you need to modify more attributes look at the template yaml file\n",
    "race_type = \"TIME_TRIAL\"\n",
    "\n",
    "if race_type == \"OBJECT_AVOIDANCE\":\n",
    "    yaml_config['NUMBER_OF_OBSTACLES']     = \"6\"\n",
    "    yaml_config['RACE_TYPE']               = \"OBJECT_AVOIDANCE\"\n",
    "\n",
    "elif race_type == \"HEAD_TO_BOT\":\n",
    "    yaml_config['NUMBER_OF_BOT_CARS']      = \"6\"\n",
    "    yaml_config['RACE_TYPE']               = \"HEAD_TO_BOT\"\n",
    "\n",
    "# Printing the modified yaml parameter\n",
    "for key, value in yaml_config.items():\n",
    "    print(\"{}: {}\".format(key.ljust(40, ' '), value))\n",
    "\n",
    "# Uploading the modified yaml parameter\n",
    "with open(\"./training_params.yaml\", \"w\") as filepointer:\n",
    "    yaml.dump(yaml_config, filepointer)\n",
    "\n",
    "!aws s3 cp ./training_params.yaml {s3_location}/training_params.yaml\n",
    "!rm training_params.yaml\n"
   ]
  },
  {
   "cell_type": "code",
   "execution_count": 46,
   "id": "linear-cambridge",
   "metadata": {},
   "outputs": [
    {
     "name": "stdout",
     "output_type": "stream",
     "text": [
      "{\n",
      "    \"StreamARN\": \"arn:aws:kinesisvideo:us-east-1:204747776045:stream/dr-kvs-deepracer-notebook-2021-03-28-02-06-12-181/1616897183339\"\n",
      "}\n",
      "Created kinesis video stream dr-kvs-deepracer-notebook-2021-03-28-02-06-12-181\n",
      "Using the latest simapp from public s3 bucket\n",
      "download: s3://deepracer-managed-resources-us-east-1/deepracer-simapp.tar.gz to ./deepracer-simapp.tar.gz\n",
      "delete: s3://freirebros-deepracer/robomaker/simulation_ws.tar.gz\n",
      "upload: ./deepracer-simapp.tar.gz to s3://freirebros-deepracer/robomaker/simulation_ws.tar.gz\n",
      "deepracer-notebook-application210328-020706\n",
      "Created a new simulation app with ARN: arn:aws:robomaker:us-east-1:204747776045:simulation-application/deepracer-notebook-application210328-020706/1616897226587\n",
      "Created the following jobs:\n",
      "Job ARN arn:aws:robomaker:us-east-1:204747776045:simulation-job/sim-bxyq1d24yhmz\n"
     ]
    }
   ],
   "source": [
    "#kinesis video stream\n",
    "kvs_stream_name = \"dr-kvs-{}\".format(job_name)\n",
    "\n",
    "!aws --region {aws_region} kinesisvideo create-stream --stream-name {kvs_stream_name} --media-type video/h264 --data-retention-in-hours 24\n",
    "print (\"Created kinesis video stream {}\".format(kvs_stream_name))\n",
    "\n",
    "# robomaker\n",
    "robomaker = boto3.client(\"robomaker\")\n",
    "\n",
    "#simulation\n",
    "#we shoould consider usin gazebo version 9\n",
    "robomaker_s3_key = 'robomaker/simulation_ws.tar.gz'\n",
    "robomaker_source = {'s3Bucket': s3_bucket,\n",
    "                    's3Key': robomaker_s3_key,\n",
    "                    'architecture': \"X86_64\"}\n",
    "simulation_software_suite={'name': 'Gazebo',\n",
    "                           'version': '7'}\n",
    "robot_software_suite={'name': 'ROS',\n",
    "                      'version': 'Kinetic'}\n",
    "rendering_engine={'name': 'OGRE',\n",
    "                  'version': '1.x'}\n",
    "\n",
    "if not os.path.exists('./build/output.tar.gz'):\n",
    "    print(\"Using the latest simapp from public s3 bucket\")\n",
    "    # Download Robomaker simApp for the deepracer public s3 bucket\n",
    "    simulation_application_bundle_location = \"s3://deepracer-managed-resources-us-east-1/deepracer-simapp.tar.gz\"\n",
    "    !aws s3 cp {simulation_application_bundle_location} ./\n",
    "\n",
    "    # Remove if the Robomaker sim-app is present in s3 bucket\n",
    "    !aws s3 rm s3://{s3_bucket}/{robomaker_s3_key}\n",
    "\n",
    "    # Uploading the Robomaker SimApp to your S3 bucket\n",
    "    !aws s3 cp ./deepracer-simapp.tar.gz s3://{s3_bucket}/{robomaker_s3_key}\n",
    "\n",
    "    # Cleanup the locally downloaded version of SimApp\n",
    "    !rm deepracer-simapp.tar.gz\n",
    "else:\n",
    "    print(\"Using the simapp from build directory\")\n",
    "    !aws s3 cp ./build/output.tar.gz s3://{s3_bucket}/{robomaker_s3_key}\n",
    "        \n",
    "app_name = \"deepracer-notebook-application\" + strftime(\"%y%m%d-%H%M%S\", gmtime())\n",
    "\n",
    "print(app_name)\n",
    "try:\n",
    "    response = robomaker.create_simulation_application(name=app_name,\n",
    "                                                       sources=[robomaker_source],\n",
    "                                                       simulationSoftwareSuite=simulation_software_suite,\n",
    "                                                       robotSoftwareSuite=robot_software_suite,\n",
    "                                                       renderingEngine=rendering_engine)\n",
    "    simulation_app_arn = response[\"arn\"]\n",
    "    print(\"Created a new simulation app with ARN:\", simulation_app_arn)\n",
    "except Exception as e:\n",
    "    if \"AccessDeniedException\" in str(e):\n",
    "        display(Markdown(generate_help_for_robomaker_all_permissions(role)))\n",
    "        raise e\n",
    "    else:\n",
    "        raise e\n",
    "\n",
    "        \n",
    "\n",
    "vpcConfig = {\"subnets\": deepracer_subnets,\n",
    "             \"securityGroups\": deepracer_security_groups,\n",
    "             \"assignPublicIp\": True}\n",
    "\n",
    "responses = []\n",
    "for job_no in range(num_simulation_workers):\n",
    "    client_request_token = strftime(\"%Y-%m-%d-%H-%M-%S\", gmtime())\n",
    "    envriron_vars = {\n",
    "        \"S3_YAML_NAME\": s3_yaml_name,\n",
    "        \"SAGEMAKER_SHARED_S3_PREFIX\": s3_prefix,\n",
    "        \"SAGEMAKER_SHARED_S3_BUCKET\": s3_bucket,\n",
    "        \"WORLD_NAME\": world_name,\n",
    "        \"KINESIS_VIDEO_STREAM_NAME\": kvs_stream_name,\n",
    "        \"APP_REGION\": aws_region,\n",
    "        \"MODEL_METADATA_FILE_S3_KEY\": \"%s/model/model_metadata.json\" % s3_prefix,\n",
    "        \"ROLLOUT_IDX\": str(job_no)\n",
    "    }\n",
    "\n",
    "    simulation_application = {\"application\":simulation_app_arn,\n",
    "                              \"launchConfig\": {\"packageName\": \"deepracer_simulation_environment\",\n",
    "                                               \"launchFile\": \"distributed_training.launch\",\n",
    "                                               \"environmentVariables\": envriron_vars}\n",
    "                             }\n",
    "    response =  robomaker.create_simulation_job(iamRole=sagemaker_role,\n",
    "                                            clientRequestToken=client_request_token,\n",
    "                                            maxJobDurationInSeconds=job_duration_in_seconds,\n",
    "                                            failureBehavior=\"Fail\",\n",
    "                                            simulationApplications=[simulation_application],\n",
    "                                            vpcConfig=vpcConfig\n",
    "                                            )\n",
    "    responses.append(response)\n",
    "    time.sleep(5)\n",
    "    \n",
    "\n",
    "print(\"Created the following jobs:\")\n",
    "job_arns = [response[\"arn\"] for response in responses]\n",
    "for job_arn in job_arns:\n",
    "    print(\"Job ARN\", job_arn)"
   ]
  },
  {
   "cell_type": "code",
   "execution_count": 47,
   "id": "provincial-table",
   "metadata": {},
   "outputs": [
    {
     "data": {
      "text/markdown": [
       "> Click on the following links for visualization of simulation jobs on RoboMaker Console\n",
       "- [Simulation 1](https://us-east-1.console.aws.amazon.com/robomaker/home?region=us-east-1#simulationJobs/sim-bxyq1d24yhmz)  \n",
       "\n",
       "You can click on Gazebo after you open the above link to start the simulator."
      ],
      "text/plain": [
       "<IPython.core.display.Markdown object>"
      ]
     },
     "metadata": {},
     "output_type": "display_data"
    }
   ],
   "source": [
    "display(Markdown(generate_robomaker_links(job_arns, aws_region)))"
   ]
  },
  {
   "cell_type": "markdown",
   "id": "white-correlation",
   "metadata": {},
   "source": [
    "# Lauch Simulation with parameters"
   ]
  },
  {
   "cell_type": "code",
   "execution_count": 48,
   "id": "sticky-bristol",
   "metadata": {},
   "outputs": [],
   "source": [
    "#tracks you can use, there may be more now need to recheck....\n",
    "# Albert.world                      Mexico_track.world                reinvent_wood.world\n",
    "# AmericasGeneratedInclStart.world  Monaco_building.world             Singapore_building.world\n",
    "# Aragon.world                      Monaco.world                      Singapore_f1.world\n",
    "# Austin.world                      New_York_Track.world              Singapore.world\n",
    "# AWS_track.world                   Oval_track.world                  Spain_track_f1.world\n",
    "# Belille.world                     reInvent2019_track.world          Spain_track.world\n",
    "# Bowtie_track.world                reInvent2019_wide_mirrored.world  Straight_track.world\n",
    "# Canada_Training.world             reInvent2019_wide.world           Tokyo_Training_track.world\n",
    "# China_track.world                 reinvent_base_jeremiah.world      Vegas_track.world\n",
    "# FS_June2020.world                 reinvent_base.world               Virtual_May19_Train_track.world\n",
    "# July_2020.world                   reinvent_carpet.world\n",
    "# LGSWide.world                     reinvent_concrete.world"
   ]
  },
  {
   "cell_type": "markdown",
   "id": "incoming-details",
   "metadata": {},
   "source": [
    "# PLOT RESULTS"
   ]
  },
  {
   "cell_type": "code",
   "execution_count": 49,
   "id": "swedish-commitment",
   "metadata": {},
   "outputs": [
    {
     "name": "stdout",
     "output_type": "stream",
     "text": [
      "Create local folder /tmp/deepracer-notebook-2021-03-28-02-06-12-181\n"
     ]
    }
   ],
   "source": [
    "#create ploting temp directories\n",
    "tmp_dir = \"/tmp/{}\".format(job_name)\n",
    "os.system(\"mkdir {}\".format(tmp_dir))\n",
    "print(\"Create local folder {}\".format(tmp_dir))"
   ]
  },
  {
   "cell_type": "code",
   "execution_count": 52,
   "id": "cellular-battery",
   "metadata": {},
   "outputs": [
    {
     "name": "stdout",
     "output_type": "stream",
     "text": [
      "Waiting for s3://freirebros-deepracer/AndreiModels/Model-Andrei-Trial-4-usingT3-SM/training_metrics.json...\n",
      "Downloading AndreiModels/Model-Andrei-Trial-4-usingT3-SM/training_metrics.json\n"
     ]
    },
    {
     "data": {
      "image/png": "[encoded data removed]",
      "text/plain": [
       "<Figure size 864x360 with 1 Axes>"
      ]
     },
     "metadata": {
      "needs_background": "light"
     },
     "output_type": "display_data"
    }
   ],
   "source": [
    "%matplotlib inline\n",
    "import pandas as pd\n",
    "import json\n",
    "\n",
    "training_metrics_file = \"training_metrics.json\"\n",
    "viewModelMetrics = NewModelPrefix\n",
    "training_metrics_path = \"{}/{}\".format(viewModelMetrics, training_metrics_file)\n",
    "wait_for_s3_object(s3_bucket, training_metrics_path, tmp_dir)\n",
    "\n",
    "json_file = \"{}/{}\".format(tmp_dir, training_metrics_file)\n",
    "with open(json_file) as fp:  \n",
    "    data = json.load(fp)\n",
    "\n",
    "df = pd.DataFrame(data['metrics'])\n",
    "x_axis = 'episode'\n",
    "y_axis = 'reward_score'\n",
    "\n",
    "plt = df.plot(x=x_axis,y=y_axis, figsize=(12,5), legend=True, style='b-')\n",
    "plt.set_ylabel(y_axis);\n",
    "plt.set_xlabel(x_axis);"
   ]
  },
  {
   "cell_type": "markdown",
   "id": "supreme-modeling",
   "metadata": {},
   "source": [
    "# Evaluation"
   ]
  },
  {
   "cell_type": "code",
   "execution_count": 53,
   "id": "empirical-purchase",
   "metadata": {
    "jupyter": {
     "source_hidden": true
    }
   },
   "outputs": [
    {
     "name": "stdout",
     "output_type": "stream",
     "text": [
      "JOB_TYPE                                : EVALUATION\n",
      "WORLD_NAME                              : reInvent2019_track\n",
      "MODEL_S3_BUCKET                         : freirebros-deepracer\n",
      "MODEL_S3_PREFIX                         : AndreiModels/Model-Andrei-Trial-4-usingT3-SM\n",
      "AWS_REGION                              : us-east-1\n",
      "METRICS_S3_BUCKET                       : freirebros-deepracer\n",
      "METRICS_S3_OBJECT_KEY                   : AndreiModels/Model-Andrei-Trial-4-usingT3-SM/evaluation_metrics.json\n",
      "SIMTRACE_S3_BUCKET                      : freirebros-deepracer\n",
      "SIMTRACE_S3_PREFIX                      : AndreiModels/Model-Andrei-Trial-4-usingT3-SM/iteration-data/evaluation\n",
      "NUMBER_OF_TRIALS                        : 5\n",
      "ROBOMAKER_SIMULATION_JOB_ACCOUNT_ID     : 204747776045\n",
      "CAR_COLOR                               : Grey\n",
      "NUMBER_OF_RESETS                        : 10000\n",
      "PENALTY_SECONDS                         : 2.0\n",
      "IS_CONTINUOUS                           : false\n",
      "OFF_TRACK_PENALTY                       : 0.0\n",
      "COLLISION_PENALTY                       : 0.0\n",
      "ENABLE_DOMAIN_RANDOMIZATION             : false\n",
      "REVERSE_DIR                             : false\n",
      "NUMBER_OF_OBSTACLES                     : 0\n",
      "MIN_DISTANCE_BETWEEN_OBSTACLES          : 2.0\n",
      "RANDOMIZE_OBSTACLE_LOCATIONS            : false\n",
      "IS_OBSTACLE_BOT_CAR                     : false\n",
      "NUMBER_OF_BOT_CARS                      : 0\n",
      "IS_LANE_CHANGE                          : false\n",
      "LOWER_LANE_CHANGE_TIME                  : 3.0\n",
      "UPPER_LANE_CHANGE_TIME                  : 5.0\n",
      "LANE_CHANGE_DISTANCE                    : 1.0\n",
      "MIN_DISTANCE_BETWEEN_BOT_CARS           : 2.0\n",
      "RANDOMIZE_BOT_CAR_LOCATIONS             : true\n",
      "BOT_CAR_SPEED                           : 0.2\n",
      "MP4_S3_BUCKET                           : freirebros-deepracer\n",
      "MP4_S3_OBJECT_PREFIX                    : AndreiModels/Model-Andrei-Trial-4-usingT3-SM/iteration-data/evaluation\n",
      "RACE_TYPE                               : TIME_TRIAL\n",
      "VIDEO_JOB_TYPE                          : RACING\n",
      "DISPLAY_NAME                            : LongLongRacerNameBlaBlaBla\n",
      "RACER_NAME                              : racer-alias\n",
      "MODEL_NAME                              : bla-bla-model-user-created-in-customer\n",
      "LEADERBOARD_TYPE                        : LEAGUE\n",
      "LEADERBOARD_NAME                        : 2020 MARCH QUALIFIER\n"
     ]
    },
    {
     "name": "stderr",
     "output_type": "stream",
     "text": [
      "/home/ec2-user/anaconda3/envs/amazonei_tensorflow_p36/lib/python3.6/site-packages/ipykernel/__main__.py:5: YAMLLoadWarning: calling yaml.load() without Loader=... is deprecated, as the default Loader is unsafe. Please read https://msg.pyyaml.org/load for full details.\n"
     ]
    },
    {
     "name": "stdout",
     "output_type": "stream",
     "text": [
      "upload: ./evaluation_params.yaml to s3://freirebros-deepracer/AndreiModels/Model-Andrei-Trial-4-usingT3-SM/evaluation_params.yaml\n",
      "Created the following jobs:\n",
      "Job ARN arn:aws:robomaker:us-east-1:204747776045:simulation-job/sim-ygctvwty6wrx\n"
     ]
    },
    {
     "data": {
      "text/markdown": [
       "> Click on the following links for visualization of simulation jobs on RoboMaker Console\n",
       "- [Simulation 1](https://us-east-1.console.aws.amazon.com/robomaker/home?region=us-east-1#simulationJobs/sim-ygctvwty6wrx)  \n",
       "\n",
       "You can click on Gazebo after you open the above link to start the simulator."
      ],
      "text/plain": [
       "<IPython.core.display.Markdown object>"
      ]
     },
     "metadata": {},
     "output_type": "display_data"
    }
   ],
   "source": [
    "s3_yaml_name=\"evaluation_params.yaml\"\n",
    "world_name = \"reInvent2019_track\"\n",
    "\n",
    "with open(\"./src/artifacts/yaml/evaluation_yaml_template.yaml\", \"r\") as filepointer:\n",
    "    yaml_config = yaml.load(filepointer)\n",
    "\n",
    "yaml_config['WORLD_NAME']                  = world_name\n",
    "yaml_config['MODEL_S3_BUCKET']             = s3_bucket\n",
    "yaml_config['MODEL_S3_PREFIX']             = s3_prefix\n",
    "yaml_config['AWS_REGION']                  = aws_region\n",
    "yaml_config['METRICS_S3_BUCKET']           = s3_bucket\n",
    "yaml_config['METRICS_S3_OBJECT_KEY']       = \"{}/evaluation_metrics.json\".format(s3_prefix)\n",
    "yaml_config['SIMTRACE_S3_BUCKET']          = s3_bucket\n",
    "yaml_config['SIMTRACE_S3_PREFIX']          = \"{}/iteration-data/evaluation\".format(s3_prefix)\n",
    "yaml_config['ROBOMAKER_SIMULATION_JOB_ACCOUNT_ID'] = account_id\n",
    "yaml_config['NUMBER_OF_TRIALS']            = \"5\"\n",
    "yaml_config['MP4_S3_BUCKET']               = s3_bucket\n",
    "yaml_config['MP4_S3_OBJECT_PREFIX']        = \"{}/iteration-data/evaluation\".format(s3_prefix)\n",
    "\n",
    "# Race-type supported for training are TIME_TRIAL, OBJECT_AVOIDANCE, HEAD_TO_BOT\n",
    "# If you need to modify more attributes look at the template yaml file\n",
    "race_type = \"TIME_TRIAL\"\n",
    "\n",
    "if race_type == \"OBJECT_AVOIDANCE\":\n",
    "    yaml_config['NUMBER_OF_OBSTACLES']     = \"6\"\n",
    "    yaml_config['RACE_TYPE']               = \"OBJECT_AVOIDANCE\"\n",
    "\n",
    "elif race_type == \"HEAD_TO_BOT\":\n",
    "    yaml_config['NUMBER_OF_BOT_CARS']      = \"6\"\n",
    "    yaml_config['RACE_TYPE']               = \"HEAD_TO_BOT\"\n",
    "\n",
    "# Printing the modified yaml parameter\n",
    "for key, value in yaml_config.items():\n",
    "    print(\"{}: {}\".format(key.ljust(40, ' '), value))\n",
    "\n",
    "# Uploading the modified yaml parameter\n",
    "with open(\"./evaluation_params.yaml\", \"w\") as filepointer:\n",
    "    yaml.dump(yaml_config, filepointer)\n",
    "\n",
    "!aws s3 cp ./evaluation_params.yaml {s3_location}/evaluation_params.yaml\n",
    "!rm evaluation_params.yaml\n",
    "\n",
    "num_simulation_workers = 1\n",
    "\n",
    "envriron_vars = {\n",
    "    \"S3_YAML_NAME\": s3_yaml_name,\n",
    "    \"MODEL_S3_PREFIX\": s3_prefix,\n",
    "    \"MODEL_S3_BUCKET\": s3_bucket,\n",
    "    \"WORLD_NAME\": world_name,\n",
    "    \"KINESIS_VIDEO_STREAM_NAME\": kvs_stream_name,\n",
    "    \"APP_REGION\": aws_region,\n",
    "    \"MODEL_METADATA_FILE_S3_KEY\": \"%s/model/model_metadata.json\" % s3_prefix\n",
    "}\n",
    "\n",
    "simulation_application = {\n",
    "    \"application\":simulation_app_arn,\n",
    "    \"launchConfig\": {\n",
    "         \"packageName\": \"deepracer_simulation_environment\",\n",
    "         \"launchFile\": \"evaluation.launch\",\n",
    "         \"environmentVariables\": envriron_vars\n",
    "    }\n",
    "}\n",
    "                            \n",
    "vpcConfig = {\"subnets\": deepracer_subnets,\n",
    "             \"securityGroups\": deepracer_security_groups,\n",
    "             \"assignPublicIp\": True}\n",
    "\n",
    "responses = []\n",
    "for job_no in range(num_simulation_workers):\n",
    "    response =  robomaker.create_simulation_job(clientRequestToken=strftime(\"%Y-%m-%d-%H-%M-%S\", gmtime()),\n",
    "                                                outputLocation={ \n",
    "                                                  \"s3Bucket\": s3_bucket,\n",
    "                                                  \"s3Prefix\": s3_prefix\n",
    "                                                },\n",
    "                                                maxJobDurationInSeconds=job_duration_in_seconds,\n",
    "                                                iamRole=sagemaker_role,\n",
    "                                                failureBehavior=\"Fail\",\n",
    "                                                simulationApplications=[simulation_application],\n",
    "                                                vpcConfig=vpcConfig)\n",
    "    responses.append(response)\n",
    "\n",
    "print(\"Created the following jobs:\")\n",
    "job_arns = [response[\"arn\"] for response in responses]\n",
    "for job_arn in job_arns:\n",
    "    print(\"Job ARN\", job_arn)\n",
    "\n",
    "display(Markdown(generate_robomaker_links(job_arns, aws_region)))"
   ]
  },
  {
   "cell_type": "markdown",
   "id": "centered-tamil",
   "metadata": {},
   "source": [
    "## Plot Evaluation"
   ]
  },
  {
   "cell_type": "code",
   "execution_count": 54,
   "id": "fancy-seventh",
   "metadata": {
    "jupyter": {
     "source_hidden": true
    }
   },
   "outputs": [
    {
     "name": "stdout",
     "output_type": "stream",
     "text": [
      "Waiting for s3://freirebros-deepracer/AndreiModels/Model-Andrei-Trial-4-usingT3-SM/evaluation_metrics.json.....................................\n",
      "Downloading AndreiModels/Model-Andrei-Trial-4-usingT3-SM/evaluation_metrics.json\n"
     ]
    },
    {
     "data": {
      "text/html": [
       "<div>\n",
       "<style scoped>\n",
       "    .dataframe tbody tr th:only-of-type {\n",
       "        vertical-align: middle;\n",
       "    }\n",
       "\n",
       "    .dataframe tbody tr th {\n",
       "        vertical-align: top;\n",
       "    }\n",
       "\n",
       "    .dataframe thead th {\n",
       "        text-align: right;\n",
       "    }\n",
       "</style>\n",
       "<table border=\"1\" class=\"dataframe\">\n",
       "  <thead>\n",
       "    <tr style=\"text-align: right;\">\n",
       "      <th></th>\n",
       "      <th>trial</th>\n",
       "      <th>completion_percentage</th>\n",
       "      <th>elapsed_time</th>\n",
       "    </tr>\n",
       "  </thead>\n",
       "  <tbody>\n",
       "    <tr>\n",
       "      <th>0</th>\n",
       "      <td>1</td>\n",
       "      <td>100</td>\n",
       "      <td>25.42</td>\n",
       "    </tr>\n",
       "  </tbody>\n",
       "</table>\n",
       "</div>"
      ],
      "text/plain": [
       "   trial  completion_percentage  elapsed_time\n",
       "0      1                    100         25.42"
      ]
     },
     "metadata": {},
     "output_type": "display_data"
    }
   ],
   "source": [
    "evaluation_metrics_file = \"evaluation_metrics.json\"\n",
    "evaluation_metrics_path = \"{}/{}\".format(s3_prefix, evaluation_metrics_file)\n",
    "wait_for_s3_object(s3_bucket, evaluation_metrics_path, tmp_dir)\n",
    "\n",
    "json_file = \"{}/{}\".format(tmp_dir, evaluation_metrics_file)\n",
    "with open(json_file) as fp:  \n",
    "    data = json.load(fp)\n",
    "\n",
    "df = pd.DataFrame(data['metrics'])\n",
    "# Converting milliseconds to seconds\n",
    "df['elapsed_time'] = df['elapsed_time_in_milliseconds']/1000\n",
    "df = df[['trial', 'completion_percentage', 'elapsed_time']]\n",
    "\n",
    "display(df)"
   ]
  },
  {
   "cell_type": "markdown",
   "id": "indie-drink",
   "metadata": {},
   "source": [
    "# Head To Head Evaluation"
   ]
  },
  {
   "cell_type": "code",
   "execution_count": null,
   "id": "extended-stick",
   "metadata": {
    "jupyter": {
     "source_hidden": true
    }
   },
   "outputs": [],
   "source": [
    "# S3 bucket\n",
    "s3_bucket_2 = sage_session.default_bucket()\n",
    "\n",
    "# Ensure that the S3 prefix contains the keyword 'sagemaker'\n",
    "# e.g.\"deepracer-notebook-sagemaker-200422-231836\"\n",
    "# Please provide the second agents s3_prefix\n",
    "s3_prefix_2 = \"[FILL OUT PREFIX]\"\n",
    "if not s3_prefix_2:\n",
    "    raise Exception(\"Please provide the second agents s3_prefix and s3_bucket. The prefix would have sagemaker in between\")\n",
    "\n",
    "print(\"Using s3 bucket {}\".format(s3_bucket_2))\n",
    "print(\"Model checkpoints and other metadata will be stored at: \\ns3://{}/{}\".format(s3_bucket_2, s3_prefix_2))\n",
    "\n",
    "\n",
    "s3_yaml_name=\"evaluation_params.yaml\"\n",
    "world_name = \"reInvent2019_track\"\n",
    "\n",
    "with open(\"./src/artifacts/yaml/head2head_yaml_template.yaml\", \"r\") as filepointer:\n",
    "    yaml_config = yaml.load(filepointer)\n",
    "\n",
    "yaml_config['WORLD_NAME']                  = world_name\n",
    "yaml_config['MODEL_S3_BUCKET']             = [s3_bucket,\n",
    "                                              s3_bucket_2]\n",
    "yaml_config['MODEL_S3_PREFIX']             = [s3_prefix,\n",
    "                                              s3_prefix_2]\n",
    "yaml_config['MODEL_METADATA_FILE_S3_KEY']  =[\"{}/model/model_metadata.json\".format(s3_prefix),\n",
    "                                             \"{}/model/model_metadata.json\".format(s3_prefix_2)]\n",
    "yaml_config['AWS_REGION']                  = aws_region\n",
    "yaml_config['METRICS_S3_BUCKET']           = [s3_bucket,\n",
    "                                              s3_bucket_2]\n",
    "yaml_config['METRICS_S3_OBJECT_KEY']       = [\"{}/evaluation_metrics.json\".format(s3_prefix),\n",
    "                                              \"{}/evaluation_metrics.json\".format(s3_prefix_2)]\n",
    "yaml_config['SIMTRACE_S3_BUCKET']          = [s3_bucket,\n",
    "                                              s3_bucket_2]\n",
    "yaml_config['SIMTRACE_S3_PREFIX']          = [\"{}/iteration-data/evaluation\".format(s3_prefix),\n",
    "                                              \"{}/iteration-data/evaluation\".format(s3_prefix_2)]\n",
    "yaml_config['ROBOMAKER_SIMULATION_JOB_ACCOUNT_ID'] = account_id\n",
    "yaml_config['NUMBER_OF_TRIALS']            = \"5\"\n",
    "yaml_config['MP4_S3_BUCKET']               = [s3_bucket,\n",
    "                                              s3_bucket_2]\n",
    "yaml_config['MP4_S3_OBJECT_PREFIX']        = [\"{}/iteration-data/evaluation\".format(s3_prefix),\n",
    "                                              \"{}/iteration-data/evaluation\".format(s3_prefix_2)]\n",
    "\n",
    "# Race-type supported for training are TIME_TRIAL, OBJECT_AVOIDANCE, HEAD_TO_BOT\n",
    "# If you need to modify more attributes look at the template yaml file\n",
    "race_type = \"TIME_TRIAL\"\n",
    "\n",
    "if race_type == \"OBJECT_AVOIDANCE\":\n",
    "    yaml_config['NUMBER_OF_OBSTACLES']     = \"6\"\n",
    "    yaml_config['RACE_TYPE']               = \"OBJECT_AVOIDANCE\"\n",
    "\n",
    "elif race_type == \"HEAD_TO_BOT\":\n",
    "    yaml_config['NUMBER_OF_BOT_CARS']      = \"6\"\n",
    "    yaml_config['RACE_TYPE']               = \"HEAD_TO_BOT\"\n",
    "\n",
    "# Printing the modified yaml parameter\n",
    "for key, value in yaml_config.items():\n",
    "    print(\"{}: {}\".format(key.ljust(40, ' '), value))\n",
    "\n",
    "# Uploading the modified yaml parameter\n",
    "with open(\"./evaluation_params.yaml\", \"w\") as filepointer:\n",
    "    yaml.dump(yaml_config, filepointer)\n",
    "\n",
    "!aws s3 cp ./evaluation_params.yaml {s3_location}/evaluation_params.yaml\n",
    "!rm evaluation_params.yaml\n",
    "\n",
    "num_simulation_workers = 1\n",
    "\n",
    "envriron_vars = {\n",
    "    \"S3_YAML_NAME\": s3_yaml_name,\n",
    "    \"MODEL_S3_PREFIX\": s3_prefix,\n",
    "    \"MODEL_S3_BUCKET\": s3_bucket,\n",
    "    \"WORLD_NAME\": world_name,\n",
    "    \"KINESIS_VIDEO_STREAM_NAME\": kvs_stream_name,\n",
    "    \"APP_REGION\": aws_region,\n",
    "    \"MODEL_METADATA_FILE_S3_KEY\": \"%s/model/model_metadata.json\" % s3_prefix\n",
    "}\n",
    "\n",
    "simulation_application = {\n",
    "    \"application\":simulation_app_arn,\n",
    "    \"launchConfig\": {\n",
    "         \"packageName\": \"deepracer_simulation_environment\",\n",
    "         \"launchFile\": \"evaluation.launch\",\n",
    "         \"environmentVariables\": envriron_vars\n",
    "    }\n",
    "}\n",
    "                            \n",
    "vpcConfig = {\"subnets\": deepracer_subnets,\n",
    "             \"securityGroups\": deepracer_security_groups,\n",
    "             \"assignPublicIp\": True}\n",
    "\n",
    "responses = []\n",
    "for job_no in range(num_simulation_workers):\n",
    "    response =  robomaker.create_simulation_job(clientRequestToken=strftime(\"%Y-%m-%d-%H-%M-%S\", gmtime()),\n",
    "                                                outputLocation={ \n",
    "                                                  \"s3Bucket\": s3_bucket,\n",
    "                                                  \"s3Prefix\": s3_prefix\n",
    "                                                },\n",
    "                                                maxJobDurationInSeconds=job_duration_in_seconds,\n",
    "                                                iamRole=sagemaker_role,\n",
    "                                                failureBehavior=\"Fail\",\n",
    "                                                simulationApplications=[simulation_application],\n",
    "                                                vpcConfig=vpcConfig)\n",
    "    responses.append(response)\n",
    "\n",
    "print(\"Created the following jobs:\")\n",
    "job_arns = [response[\"arn\"] for response in responses]\n",
    "for job_arn in job_arns:\n",
    "    print(\"Job ARN\", job_arn)\n",
    "    \n",
    "display(Markdown(generate_robomaker_links(job_arns, aws_region)))"
   ]
  },
  {
   "cell_type": "markdown",
   "id": "necessary-keeping",
   "metadata": {},
   "source": [
    "## Plot H2H Evaluation"
   ]
  },
  {
   "cell_type": "code",
   "execution_count": null,
   "id": "incorporated-crossing",
   "metadata": {
    "jupyter": {
     "source_hidden": true
    }
   },
   "outputs": [],
   "source": [
    "evaluation_metrics_file = \"evaluation_metrics.json\"\n",
    "evaluation_metrics_path = \"{}/{}\".format(s3_prefix, evaluation_metrics_file)\n",
    "wait_for_s3_object(s3_bucket, evaluation_metrics_path, tmp_dir)\n",
    "\n",
    "json_file = \"{}/{}\".format(tmp_dir, evaluation_metrics_file)\n",
    "with open(json_file) as fp:  \n",
    "    data = json.load(fp)\n",
    "\n",
    "df_1 = pd.DataFrame(data['metrics'])\n",
    "# Converting milliseconds to seconds\n",
    "df_1['elapsed_time'] = df_1['elapsed_time_in_milliseconds']/1000\n",
    "df_1 = df_1[['trial', 'completion_percentage', 'elapsed_time']]\n",
    "\n",
    "display(df_1)\n",
    "\n",
    "evaluation_metrics_file = \"evaluation_metrics.json\"\n",
    "evaluation_metrics_path = \"{}/{}\".format(s3_prefix_2, evaluation_metrics_file)\n",
    "wait_for_s3_object(s3_bucket_2, evaluation_metrics_path, tmp_dir)\n",
    "\n",
    "json_file = \"{}/{}\".format(tmp_dir, evaluation_metrics_file)\n",
    "with open(json_file) as fp:  \n",
    "    data = json.load(fp)\n",
    "\n",
    "df_2 = pd.DataFrame(data['metrics'])\n",
    "# Converting milliseconds to seconds\n",
    "df_2['elapsed_time'] = df_2['elapsed_time_in_milliseconds']/1000\n",
    "df_2 = df_2[['trial', 'completion_percentage', 'elapsed_time']]\n",
    "\n",
    "display(df_2)"
   ]
  },
  {
   "cell_type": "markdown",
   "id": "fabulous-symbol",
   "metadata": {},
   "source": [
    "# CLEAN UP TRAININING"
   ]
  },
  {
   "cell_type": "code",
   "execution_count": 16,
   "id": "bigger-somewhere",
   "metadata": {},
   "outputs": [
    {
     "ename": "ClientError",
     "evalue": "An error occurred (ValidationException) when calling the StopTrainingJob operation: The request was rejected because the training job is in status Failed.",
     "output_type": "error",
     "traceback": [
      "\u001b[0;31m---------------------------------------------------------------------------\u001b[0m",
      "\u001b[0;31mClientError\u001b[0m                               Traceback (most recent call last)",
      "\u001b[0;32m<ipython-input-16-25d34b7db2ea>\u001b[0m in \u001b[0;36m<module>\u001b[0;34m\u001b[0m\n\u001b[1;32m      4\u001b[0m \u001b[0;34m\u001b[0m\u001b[0m\n\u001b[1;32m      5\u001b[0m \u001b[0;31m# Stopping sagemaker training job\u001b[0m\u001b[0;34m\u001b[0m\u001b[0;34m\u001b[0m\u001b[0;34m\u001b[0m\u001b[0m\n\u001b[0;32m----> 6\u001b[0;31m \u001b[0msage_session\u001b[0m\u001b[0;34m.\u001b[0m\u001b[0msagemaker_client\u001b[0m\u001b[0;34m.\u001b[0m\u001b[0mstop_training_job\u001b[0m\u001b[0;34m(\u001b[0m\u001b[0mTrainingJobName\u001b[0m\u001b[0;34m=\u001b[0m\u001b[0mestimator\u001b[0m\u001b[0;34m.\u001b[0m\u001b[0m_current_job_name\u001b[0m\u001b[0;34m)\u001b[0m\u001b[0;34m\u001b[0m\u001b[0;34m\u001b[0m\u001b[0m\n\u001b[0m",
      "\u001b[0;32m~/anaconda3/envs/amazonei_tensorflow_p36/lib/python3.6/site-packages/botocore/client.py\u001b[0m in \u001b[0;36m_api_call\u001b[0;34m(self, *args, **kwargs)\u001b[0m\n\u001b[1;32m    355\u001b[0m                     \"%s() only accepts keyword arguments.\" % py_operation_name)\n\u001b[1;32m    356\u001b[0m             \u001b[0;31m# The \"self\" in this scope is referring to the BaseClient.\u001b[0m\u001b[0;34m\u001b[0m\u001b[0;34m\u001b[0m\u001b[0;34m\u001b[0m\u001b[0m\n\u001b[0;32m--> 357\u001b[0;31m             \u001b[0;32mreturn\u001b[0m \u001b[0mself\u001b[0m\u001b[0;34m.\u001b[0m\u001b[0m_make_api_call\u001b[0m\u001b[0;34m(\u001b[0m\u001b[0moperation_name\u001b[0m\u001b[0;34m,\u001b[0m \u001b[0mkwargs\u001b[0m\u001b[0;34m)\u001b[0m\u001b[0;34m\u001b[0m\u001b[0;34m\u001b[0m\u001b[0m\n\u001b[0m\u001b[1;32m    358\u001b[0m \u001b[0;34m\u001b[0m\u001b[0m\n\u001b[1;32m    359\u001b[0m         \u001b[0m_api_call\u001b[0m\u001b[0;34m.\u001b[0m\u001b[0m__name__\u001b[0m \u001b[0;34m=\u001b[0m \u001b[0mstr\u001b[0m\u001b[0;34m(\u001b[0m\u001b[0mpy_operation_name\u001b[0m\u001b[0;34m)\u001b[0m\u001b[0;34m\u001b[0m\u001b[0;34m\u001b[0m\u001b[0m\n",
      "\u001b[0;32m~/anaconda3/envs/amazonei_tensorflow_p36/lib/python3.6/site-packages/botocore/client.py\u001b[0m in \u001b[0;36m_make_api_call\u001b[0;34m(self, operation_name, api_params)\u001b[0m\n\u001b[1;32m    674\u001b[0m             \u001b[0merror_code\u001b[0m \u001b[0;34m=\u001b[0m \u001b[0mparsed_response\u001b[0m\u001b[0;34m.\u001b[0m\u001b[0mget\u001b[0m\u001b[0;34m(\u001b[0m\u001b[0;34m\"Error\"\u001b[0m\u001b[0;34m,\u001b[0m \u001b[0;34m{\u001b[0m\u001b[0;34m}\u001b[0m\u001b[0;34m)\u001b[0m\u001b[0;34m.\u001b[0m\u001b[0mget\u001b[0m\u001b[0;34m(\u001b[0m\u001b[0;34m\"Code\"\u001b[0m\u001b[0;34m)\u001b[0m\u001b[0;34m\u001b[0m\u001b[0;34m\u001b[0m\u001b[0m\n\u001b[1;32m    675\u001b[0m             \u001b[0merror_class\u001b[0m \u001b[0;34m=\u001b[0m \u001b[0mself\u001b[0m\u001b[0;34m.\u001b[0m\u001b[0mexceptions\u001b[0m\u001b[0;34m.\u001b[0m\u001b[0mfrom_code\u001b[0m\u001b[0;34m(\u001b[0m\u001b[0merror_code\u001b[0m\u001b[0;34m)\u001b[0m\u001b[0;34m\u001b[0m\u001b[0;34m\u001b[0m\u001b[0m\n\u001b[0;32m--> 676\u001b[0;31m             \u001b[0;32mraise\u001b[0m \u001b[0merror_class\u001b[0m\u001b[0;34m(\u001b[0m\u001b[0mparsed_response\u001b[0m\u001b[0;34m,\u001b[0m \u001b[0moperation_name\u001b[0m\u001b[0;34m)\u001b[0m\u001b[0;34m\u001b[0m\u001b[0;34m\u001b[0m\u001b[0m\n\u001b[0m\u001b[1;32m    677\u001b[0m         \u001b[0;32melse\u001b[0m\u001b[0;34m:\u001b[0m\u001b[0;34m\u001b[0m\u001b[0;34m\u001b[0m\u001b[0m\n\u001b[1;32m    678\u001b[0m             \u001b[0;32mreturn\u001b[0m \u001b[0mparsed_response\u001b[0m\u001b[0;34m\u001b[0m\u001b[0;34m\u001b[0m\u001b[0m\n",
      "\u001b[0;31mClientError\u001b[0m: An error occurred (ValidationException) when calling the StopTrainingJob operation: The request was rejected because the training job is in status Failed."
     ]
    }
   ],
   "source": [
    "# Cancelling robomaker job\n",
    "for job_arn in job_arns:\n",
    "    robomaker.cancel_simulation_job(job=job_arn)\n",
    "\n",
    "# Stopping sagemaker training job\n",
    "sage_session.sagemaker_client.stop_training_job(TrainingJobName=estimator._current_job_name)"
   ]
  },
  {
   "cell_type": "markdown",
   "id": "incorrect-event",
   "metadata": {},
   "source": [
    "# Remove Docker"
   ]
  },
  {
   "cell_type": "code",
   "execution_count": 17,
   "id": "naked-concord",
   "metadata": {},
   "outputs": [
    {
     "name": "stdout",
     "output_type": "stream",
     "text": [
      "\"docker rm\" requires at least 1 argument.\n",
      "See 'docker rm --help'.\n",
      "\n",
      "Usage:  docker rm [OPTIONS] CONTAINER [CONTAINER...]\n",
      "\n",
      "Remove one or more containers\n",
      "Untagged: 204747776045.dkr.ecr.us-east-1.amazonaws.com/sagemaker-docker-cpu:latest\n",
      "Untagged: 204747776045.dkr.ecr.us-east-1.amazonaws.com/sagemaker-docker-cpu@sha256:311e33cc5597dec45898b8425ceaa7a4bfea37ee14d1e5ddf13a3177f3f822d4\n",
      "Untagged: sagemaker-docker-cpu:latest\n",
      "Deleted: sha256:a904ab95c7a35b830a5267f566bd28bede8d307a7a27f60c24e40cbddfb0bc17\n",
      "Deleted: sha256:b4b253ed4565b8d70247ccde7115cf6e300111b22c2b62fa2ad3af3261a245a5\n",
      "Deleted: sha256:1d004049bb6046439ca5d661098fee69f921ddc0dc7c57b2eddd793b4b248757\n",
      "Deleted: sha256:d39a8e35ba8a9fb716015c5299080cd237f4674d28b9854accbf1336270c8779\n",
      "Deleted: sha256:77464388d93440bdf5d1443c6847c8cc6b3020840fc5716ac7db67a1189eb27a\n",
      "Deleted: sha256:3d283a45ac5bb1a882adb2285b810db1a7b94fc567cc53ee511e796bf45dbcc3\n",
      "Deleted: sha256:ac9d0431976b42bf64834b2f491e4c059471a928b24cd47e79c73d48a88a0b08\n",
      "Deleted: sha256:cadd0376fe35781dc9438c23d7d6841d46d8c45da22e50b79cf80fa6b1ffc569\n",
      "Deleted: sha256:f56d684f8113245456c5bd97a24ee78f369cbc7c8c049639c7c125a4a5dadb7d\n",
      "Deleted: sha256:ffc8a42f4d1d684439624473afa553d58c3c56a92e6e37d018a62245b0f6da41\n",
      "Deleted: sha256:aefd38eb06a9bef4e1effc56c4556fbe6ad4223f8b6bdc09940ca498a4f1b61e\n",
      "Deleted: sha256:b0eb1f5753ec56c1cfb5ddb1e7a7e63679f86b4d900381be263f1c6637431dc4\n",
      "Deleted: sha256:1bc29bd1ca1f51bda4b53434995b161efefa739a04e2e152e77893678a323a1e\n",
      "Deleted: sha256:5f6a7b913b786ea47af4d4da9de1954449293045556380528b82d06390b3404e\n",
      "Deleted: sha256:5a5c216dc64816ba7f5e107c0f06a1d0fa4889311fc13c54a420868fcfef8b2a\n",
      "Deleted: sha256:3f7ef943298152d634b9d3eaca7427f1de77a26bb8b8e0021a349d81ba506414\n",
      "Deleted: sha256:a7fdb6e074f0de914b2a9df91a4975e3c0877a68e00b9637c28c0dd8f3c8e76b\n",
      "Deleted: sha256:fa23663e1cbe2b34368ab076bc9502677d8d294b59d5c030479bb02917669fe0\n",
      "Deleted: sha256:0279a5fb30575b1f85afc4b601bbad5733c18b12fe017e576a43cea55c1d2fdc\n",
      "Deleted: sha256:24cbe0d4fdfcab8a2d92c96e3a295da2e49d6d127155decb7b38750043fe5ac9\n",
      "Deleted: sha256:ee9e5497f8fdbe4a939b76fe405f6ce09a683fdc86478041d765b95b57b2a532\n",
      "Deleted: sha256:547bdf6e022999beb979afbe9b937736826a37b14eedee9c38722f8c0817125a\n",
      "Deleted: sha256:7a1b14c062e5cb12aa8edb496538d0290473b97e98621a04b69cc5f5d591ee15\n",
      "Deleted: sha256:489fa0784e1626bc7a97d6b3f9acb7126f7e33ce61cb89d8b9ef4ca60bbada65\n",
      "Deleted: sha256:8c869422f90c811ac5f3c5be2ca393ac93074df1138b0db6fc6f8aa537f071eb\n",
      "Deleted: sha256:0e95510775cf56cfdc16fed811842124443b2f3459afaf993be6df872a8f70d3\n",
      "Deleted: sha256:e2bb110d7fcf9db467861db3bfb1b6cfc45e4721b9684194f9cdab3e8f62f038\n",
      "Deleted: sha256:206d24b4007e0c6ab0dc7d5c9fb035eb81e4366e6145732674782de1d571a36e\n",
      "Deleted: sha256:2fc40ce3c93cd2c12fe94b01755f092c1ec4721b6278fad4881f476a446611a0\n",
      "Deleted: sha256:6b51ba9dba359591a4e5764c7b691f1dd6e11329a937ab38f83e3f6ba58ccc55\n",
      "Deleted: sha256:3c94d1469c554b62192e65fbf63e5e9784883a36cb44372665f6e41a457ac177\n",
      "Deleted: sha256:9f038821e9b4947a84f92dc07f588bfb64c4efa5fa3b45aefd1b056553ee8cae\n",
      "Deleted: sha256:8f90297d4aa45d871ae9c64294345ba53e67f0869b9d0a1431339145c3c20398\n",
      "Untagged: 520713654638.dkr.ecr.us-east-1.amazonaws.com/sagemaker-tensorflow-scriptmode:1.12.0-cpu-py3\n",
      "Untagged: 520713654638.dkr.ecr.us-east-1.amazonaws.com/sagemaker-tensorflow-scriptmode@sha256:1036b5e92698629ea1dcf1d2adc6c186b404d38ef93e2c31cb4dd47787a3629b\n",
      "Deleted: sha256:ba542f0b97063f80fd7e35b775d04f634bd79962c0d06a8c60183b92baedf886\n",
      "Deleted: sha256:2b24f4e376180946be4c530a2acc6fd9f9b188fec27f94a97e332b16566a1419\n",
      "Deleted: sha256:07a2d4304c78f9b26679c9bb18c607f37ddaf6df30324cb1c7c8888187d317fa\n",
      "Deleted: sha256:f3d9ce3ad7f16a7e0c579bf42f200f20e785d9f6ded104943309ba7c0db85b89\n",
      "Deleted: sha256:27c66f0b4af5e1b8600bc5bc550b9c28567106bb4dae8e635545d26115704ff2\n",
      "Deleted: sha256:65dd5def7d8ff05d70228000a089369084ba9106199a295d3820590f01558d24\n",
      "Deleted: sha256:0d24e0ae31cffd35a8474847e9153c1ceda8bf8b389ce8ec2c169d89233c70b0\n",
      "Deleted: sha256:2417682143411ecc680094e23937fcee3fe0f38c59fd6aa9ba0f3cf9ccc53b85\n",
      "Deleted: sha256:bd846179eaae4c439ce6783c44a42df534cbfce22d94f41354f590886c83063b\n",
      "Deleted: sha256:ea114092fb054a3eb7c676d2443390a220ffc56f00bc0bf91bc7d11a630cf099\n",
      "Deleted: sha256:dd6e7728e17a04ba313b66be50437bb02c56aa3f91944d4187ad19d6af015e07\n",
      "Deleted: sha256:51cacd617c80f4432c72c3f402a1d691e66a38874e466b5a03aad59a753a141d\n",
      "Deleted: sha256:5bcad8f8b858991e09c1ea59d2b1d8a1fcb424445493825972918b48c5170289\n",
      "Deleted: sha256:9adaba72eca85f66961ee4fb5c0b646b078377439690fa94827bf35a5f0cfd5e\n",
      "Deleted: sha256:ccab9ec9909359830f26cd442a80b08ab27a8fd34881495da7a17ac224ceebf1\n",
      "Deleted: sha256:739482a9723dbee6dbdad6b669090e96d5f57e2aa27c131015cce8969d0d4efa\n",
      "Error: No such image: a904ab95c7a3\n"
     ]
    }
   ],
   "source": [
    "#if you ever run this Docker/Cell please do not forget to clean and remove docker\n",
    "!docker rm -f $(docker ps -a -q);\n",
    "!docker rmi -f $(docker images -q);"
   ]
  },
  {
   "cell_type": "markdown",
   "id": "micro-headset",
   "metadata": {},
   "source": [
    "# Clean Up simulation "
   ]
  },
  {
   "cell_type": "code",
   "execution_count": 18,
   "id": "polish-sailing",
   "metadata": {},
   "outputs": [
    {
     "data": {
      "text/plain": [
       "{'ResponseMetadata': {'RequestId': '16ff5a40-f9b5-4f98-a30f-07732d059d02',\n",
       "  'HTTPStatusCode': 200,\n",
       "  'HTTPHeaders': {'date': 'Sat, 27 Mar 2021 23:27:40 GMT',\n",
       "   'content-type': 'application/json',\n",
       "   'content-length': '2',\n",
       "   'connection': 'keep-alive',\n",
       "   'x-amzn-requestid': '16ff5a40-f9b5-4f98-a30f-07732d059d02',\n",
       "   'x-amz-apigw-id': 'c3rY-HVtIAMFgiw=',\n",
       "   'x-amzn-trace-id': 'Root=1-605fbf6c-73e272b45b77ca7d225dcc3b'},\n",
       "  'RetryAttempts': 0}}"
      ]
     },
     "execution_count": 18,
     "metadata": {},
     "output_type": "execute_result"
    }
   ],
   "source": [
    "robomaker.delete_simulation_application(application=simulation_app_arn)"
   ]
  },
  {
   "cell_type": "markdown",
   "id": "directed-montana",
   "metadata": {},
   "source": [
    "# Clean S3 Buckets"
   ]
  },
  {
   "cell_type": "code",
   "execution_count": 19,
   "id": "august-motivation",
   "metadata": {},
   "outputs": [
    {
     "name": "stdout",
     "output_type": "stream",
     "text": [
      "delete: s3://freirebros-deepracer/AndreiModels/Model-Andrei-Trial-3-SM/customer_reward_function.py\n",
      "delete: s3://freirebros-deepracer/AndreiModels/Model-Andrei-Trial-3-SM/ip/hyperparameters.json\n",
      "delete: s3://freirebros-deepracer/AndreiModels/Model-Andrei-Trial-3-SM/model/model_metadata.json\n",
      "delete: s3://freirebros-deepracer/AndreiModels/Model-Andrei-Trial-3-SM/ip/ip.json\n",
      "delete: s3://freirebros-deepracer/AndreiModels/Model-Andrei-Trial-3-SM/training_params.yaml\n",
      "delete: s3://freirebros-deepracer/AndreiModels/Model-Andrei-Trial-3-SM/ip/done\n",
      "delete: s3://freirebros-deepracer/deepracer-notebook-2021-03-27-22-37-12-325/output/model.tar.gz\n",
      "delete: s3://freirebros-deepracer/deepracer-notebook-2021-03-27-22-37-12-325/profiler-output/system/incremental/2021032722/1616884800.algo-1.json\n",
      "delete: s3://freirebros-deepracer/deepracer-notebook-2021-03-27-22-37-12-325/profiler-output/system/incremental/2021032722/1616884740.algo-1.json\n",
      "delete: s3://freirebros-deepracer/deepracer-notebook-2021-03-27-22-37-12-325/rule-output/ProfilerReport-1616884632/profiler-output/profiler-report.html\n",
      "delete: s3://freirebros-deepracer/deepracer-notebook-2021-03-27-22-37-12-325/rule-output/ProfilerReport-1616884632/profiler-output/profiler-reports/GPUMemoryIncrease.json\n",
      "delete: s3://freirebros-deepracer/deepracer-notebook-2021-03-27-22-37-12-325/rule-output/ProfilerReport-1616884632/profiler-output/profiler-reports/CPUBottleneck.json\n",
      "delete: s3://freirebros-deepracer/deepracer-notebook-2021-03-27-22-37-12-325/rule-output/ProfilerReport-1616884632/profiler-output/profiler-reports/OverallSystemUsage.json\n",
      "delete: s3://freirebros-deepracer/deepracer-notebook-2021-03-27-22-37-12-325/rule-output/ProfilerReport-1616884632/profiler-output/profiler-reports/LowGPUUtilization.json\n",
      "delete: s3://freirebros-deepracer/deepracer-notebook-2021-03-27-22-37-12-325/rule-output/ProfilerReport-1616884632/profiler-output/profiler-reports/BatchSize.json\n",
      "delete: s3://freirebros-deepracer/deepracer-notebook-2021-03-27-22-37-12-325/rule-output/ProfilerReport-1616884632/profiler-output/profiler-report.ipynb\n",
      "delete: s3://freirebros-deepracer/deepracer-notebook-2021-03-27-22-37-12-325/source/sourcedir.tar.gz\n",
      "delete: s3://freirebros-deepracer/deepracer-notebook-2021-03-27-22-37-12-325/rule-output/ProfilerReport-1616884632/profiler-output/profiler-reports/IOBottleneck.json\n",
      "delete: s3://freirebros-deepracer/deepracer-notebook-2021-03-27-22-37-12-325/rule-output/ProfilerReport-1616884632/profiler-output/profiler-reports/StepOutlier.json\n",
      "delete: s3://freirebros-deepracer/deepracer-notebook-2021-03-27-22-37-12-325/profiler-output/system/incremental/2021032722/1616884920.algo-1.json\n",
      "delete: s3://freirebros-deepracer/deepracer-notebook-2021-03-27-22-37-12-325/profiler-output/system/incremental/2021032722/1616884860.algo-1.json\n",
      "delete: s3://freirebros-deepracer/deepracer-notebook-2021-03-27-22-37-12-325/rule-output/ProfilerReport-1616884632/profiler-output/profiler-reports/MaxInitializationTime.json\n",
      "delete: s3://freirebros-deepracer/deepracer-notebook-2021-03-27-22-37-12-325/rule-output/ProfilerReport-1616884632/profiler-output/profiler-reports/Dataloader.json\n",
      "delete: s3://freirebros-deepracer/deepracer-notebook-2021-03-27-22-37-12-325/rule-output/ProfilerReport-1616884632/profiler-output/profiler-reports/LoadBalancing.json\n",
      "delete: s3://freirebros-deepracer/deepracer-notebook-2021-03-27-22-37-12-325/rule-output/ProfilerReport-1616884632/profiler-output/profiler-reports/OverallFrameworkMetrics.json\n",
      "delete: s3://freirebros-deepracer/robomaker/simulation_ws.tar.gz\n"
     ]
    }
   ],
   "source": [
    "# Uncomment if you only want to clean the s3 bucket\n",
    "sagemaker_s3_folder = \"s3://{}/{}\".format(s3_bucket, s3_prefix)\n",
    "!aws s3 rm --recursive {sagemaker_s3_folder}\n",
    "\n",
    "robomaker_s3_folder = \"s3://{}/{}\".format(s3_bucket, job_name)\n",
    "!aws s3 rm --recursive {robomaker_s3_folder}\n",
    "\n",
    "robomaker_sim_app = \"s3://{}/{}\".format(s3_bucket, 'robomaker')\n",
    "!aws s3 rm --recursive {robomaker_sim_app}\n",
    "\n",
    "model_output = \"s3://{}/{}\".format(s3_bucket, s3_bucket)\n",
    "!aws s3 rm --recursive {model_output}"
   ]
  },
  {
   "cell_type": "code",
   "execution_count": null,
   "id": "latter-eclipse",
   "metadata": {},
   "outputs": [],
   "source": []
  }
 ],
 "metadata": {
  "kernelspec": {
   "display_name": "conda_amazonei_tensorflow_p36",
   "language": "python",
   "name": "conda_amazonei_tensorflow_p36"
  },
  "language_info": {
   "codemirror_mode": {
    "name": "ipython",
    "version": 3
   },
   "file_extension": ".py",
   "mimetype": "text/x-python",
   "name": "python",
   "nbconvert_exporter": "python",
   "pygments_lexer": "ipython3",
   "version": "3.6.10"
  }
 },
 "nbformat": 4,
 "nbformat_minor": 5
}
